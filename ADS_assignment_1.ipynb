{
  "nbformat": 4,
  "nbformat_minor": 0,
  "metadata": {
    "colab": {
      "provenance": []
    },
    "kernelspec": {
      "name": "python3",
      "display_name": "Python 3"
    },
    "language_info": {
      "name": "python"
    }
  },
  "cells": [
    {
      "cell_type": "markdown",
      "source": [
        "1.Python Program to Exchange the Values of Two Numbers Without Using a Temporary Variable"
      ],
      "metadata": {
        "id": "eWupAkpInp6t"
      }
    },
    {
      "cell_type": "code",
      "execution_count": null,
      "metadata": {
        "colab": {
          "base_uri": "https://localhost:8080/"
        },
        "id": "2aC8bSWCmRj1",
        "outputId": "7e91560f-4769-4ca4-acb2-e7b646aa15f9"
      },
      "outputs": [
        {
          "output_type": "stream",
          "name": "stdout",
          "text": [
            "enter the value of a 98\n",
            "enter the value of b 76\n",
            "after swapping\n",
            "value of a  76\n",
            "value of b 98\n"
          ]
        }
      ],
      "source": [
        "a=int(input(\"enter the value of a \"))\n",
        "b=int(input(\"enter the value of b \"))\n",
        "\n",
        "a,b=b,a\n",
        "\n",
        "print(\"after swapping\")\n",
        "print(\"value of a \", a)\n",
        "print(\"value of b\", b)"
      ]
    },
    {
      "cell_type": "markdown",
      "source": [
        "alternate way by using arthematic operation is as follows :\n",
        "a = int(input(\"Enter value of a: \"))\n",
        "b = int(input(\"Enter value of b: \"))\n",
        "\n",
        "a = a + b\n",
        "b = a - b\n",
        "a = a - b\n",
        "\n",
        "print(\"After swapping: \")\n",
        "print(\"Value of a:\", a)\n",
        "print(\"Value of b:\", b)\n"
      ],
      "metadata": {
        "id": "Vzcx-T_PqU5V"
      }
    },
    {
      "cell_type": "markdown",
      "source": [
        " 2.Python Program to Check Whether a Number is Positive or Negative."
      ],
      "metadata": {
        "id": "IlRXsU5nqpW9"
      }
    },
    {
      "cell_type": "code",
      "source": [
        "a=float(input(\"enter your number\"))\n",
        "\n",
        "if a>0:\n",
        "  print(\"number is greater than 0\")\n",
        "elif a==0:\n",
        "  print(\"number is zero\")\n",
        "else:\n",
        "  print(\"number is lesser than zero\")"
      ],
      "metadata": {
        "colab": {
          "base_uri": "https://localhost:8080/"
        },
        "id": "1gWHfY_mqya1",
        "outputId": "2e701e59-1838-4626-8de4-2b8bed4227f7"
      },
      "execution_count": null,
      "outputs": [
        {
          "output_type": "stream",
          "name": "stdout",
          "text": [
            "enter your number-98\n",
            "number is lesser than zero\n"
          ]
        }
      ]
    },
    {
      "cell_type": "markdown",
      "source": [
        "alternate way by using functions: def check_number(num):\n",
        "    if num > 0:\n",
        "        return \"Number is positive.\"\n",
        "    elif num < 0:\n",
        "        return \"Number is negative.\"\n",
        "    else:\n",
        "        return \"Number is zero.\"\n",
        "\n",
        "num = float(input(\"Enter a number: \"))\n",
        "print(check_number(num))\n"
      ],
      "metadata": {
        "id": "5kra32yysPil"
      }
    },
    {
      "cell_type": "markdown",
      "source": [
        "3.Python Program to Print all Numbers in a Range Divisible by a Given Number. [ ifrange is from 1 to 20 and number is 4, then the result should be 4, 8, 12, 16 and 20. ]"
      ],
      "metadata": {
        "id": "yE6wAT22siM-"
      }
    },
    {
      "cell_type": "code",
      "source": [
        "num1 =int(input(\"enter the number\"))\n",
        "n=int(input(\"enter the starting range\"))\n",
        "m=int(input(\"enter the ending range\"))\n",
        "for i in range(n,m+1):\n",
        "  i%num1==0\n",
        "  print(i)\n"
      ],
      "metadata": {
        "id": "068CVGXStcX1"
      },
      "execution_count": null,
      "outputs": []
    },
    {
      "cell_type": "markdown",
      "source": [
        "4.Python Program to Read Two Numbers and Print Their Quotient and Remainder\n"
      ],
      "metadata": {
        "id": "naYW7eOoye7-"
      }
    },
    {
      "cell_type": "code",
      "source": [
        "a=float(input(\"enter your number\"))\n",
        "b=float(input(\"enter your number\"))\n",
        "q= a//b\n",
        "r= a%b\n",
        "print(\"quotient\", q)\n",
        "print(\"remainder\", r)"
      ],
      "metadata": {
        "colab": {
          "base_uri": "https://localhost:8080/"
        },
        "id": "pm-Wd9iRym3m",
        "outputId": "995e0f32-37ea-45ce-8838-8dc6fc3f0b5d"
      },
      "execution_count": null,
      "outputs": [
        {
          "output_type": "stream",
          "name": "stdout",
          "text": [
            "enter your number78\n",
            "enter your number67\n",
            "quotient 1.0\n",
            "remainder 11.0\n"
          ]
        }
      ]
    },
    {
      "cell_type": "markdown",
      "source": [
        "5.Python Program to Print Odd Numbers Within a Given Range."
      ],
      "metadata": {
        "id": "1gg2faSW0Oqu"
      }
    },
    {
      "cell_type": "code",
      "source": [
        "\n",
        "n=int(input(\"enter the starting range\"))\n",
        "m=int(input(\"enter the ending range\"))\n",
        "for i in range(n,m+1):\n",
        "  i%2!=0\n",
        "  print(\"the odd numbers are\",i)"
      ],
      "metadata": {
        "colab": {
          "base_uri": "https://localhost:8080/"
        },
        "id": "teqkQK7c0Tyz",
        "outputId": "c1f30e3a-6607-403b-d347-e92dd68e0b1e"
      },
      "execution_count": null,
      "outputs": [
        {
          "output_type": "stream",
          "name": "stdout",
          "text": [
            "enter the starting range45\n",
            "enter the ending range75\n",
            "the odd numbers are 45\n",
            "the odd numbers are 46\n",
            "the odd numbers are 47\n",
            "the odd numbers are 48\n",
            "the odd numbers are 49\n",
            "the odd numbers are 50\n",
            "the odd numbers are 51\n",
            "the odd numbers are 52\n",
            "the odd numbers are 53\n",
            "the odd numbers are 54\n",
            "the odd numbers are 55\n",
            "the odd numbers are 56\n",
            "the odd numbers are 57\n",
            "the odd numbers are 58\n",
            "the odd numbers are 59\n",
            "the odd numbers are 60\n",
            "the odd numbers are 61\n",
            "the odd numbers are 62\n",
            "the odd numbers are 63\n",
            "the odd numbers are 64\n",
            "the odd numbers are 65\n",
            "the odd numbers are 66\n",
            "the odd numbers are 67\n",
            "the odd numbers are 68\n",
            "the odd numbers are 69\n",
            "the odd numbers are 70\n",
            "the odd numbers are 71\n",
            "the odd numbers are 72\n",
            "the odd numbers are 73\n",
            "the odd numbers are 74\n",
            "the odd numbers are 75\n"
          ]
        }
      ]
    },
    {
      "cell_type": "markdown",
      "source": [
        "6.Python Program to Find the Sum of Digits in a Number.\n"
      ],
      "metadata": {
        "id": "judUL7fn2BfO"
      }
    },
    {
      "cell_type": "code",
      "source": [
        "\n",
        "def sum(num):\n",
        "  temp=0\n",
        "  num = abs(num)\n",
        "  while num:\n",
        "    temp += num % 10\n",
        "    num //= 10\n",
        "  return temp\n",
        "num1 =int(input(\"enter the number\"))\n",
        "print(sum(num1))\n"
      ],
      "metadata": {
        "id": "hZClk0s76UnB",
        "colab": {
          "base_uri": "https://localhost:8080/"
        },
        "outputId": "21e2bb06-cf16-4dc9-d494-d95758261976"
      },
      "execution_count": null,
      "outputs": [
        {
          "output_type": "stream",
          "name": "stdout",
          "text": [
            "enter the number78\n",
            "15\n"
          ]
        }
      ]
    },
    {
      "cell_type": "markdown",
      "source": [
        "7.Python Program to Find the Smallest Divisor of an Integer"
      ],
      "metadata": {
        "id": "znoAp7xGf5fc"
      }
    },
    {
      "cell_type": "code",
      "source": [
        "def small(num):\n",
        "  if num<=2:\n",
        "    return num\n",
        "  for i in range(2,num):\n",
        "    if num%i==0:\n",
        "      return i\n",
        "  return num\n",
        "n=int(input(\"enter the number\"))\n",
        "print(small(n))"
      ],
      "metadata": {
        "id": "f9AEnC67f72j",
        "colab": {
          "base_uri": "https://localhost:8080/"
        },
        "outputId": "68ec155c-b889-4625-f792-ae8542434ed2"
      },
      "execution_count": null,
      "outputs": [
        {
          "output_type": "stream",
          "name": "stdout",
          "text": [
            "enter the number55\n",
            "5\n"
          ]
        }
      ]
    },
    {
      "cell_type": "markdown",
      "source": [
        "8.Python Program to Read a number n and Compute n+nn+nnn."
      ],
      "metadata": {
        "id": "EQcWYBpFLD7J"
      }
    },
    {
      "cell_type": "code",
      "source": [
        "n=int(input(\"enter the number\"))\n",
        "nn=int(str(n)*2)\n",
        "nnn=int(str(n)*3)\n",
        "print(n,nn,nnn)\n",
        "#print(nn)\n",
        "#print(nnn)"
      ],
      "metadata": {
        "colab": {
          "base_uri": "https://localhost:8080/"
        },
        "id": "ejB_jYGvLJXg",
        "outputId": "0ed27b65-eb48-4589-a7ee-4cd702d00c30"
      },
      "execution_count": null,
      "outputs": [
        {
          "output_type": "stream",
          "name": "stdout",
          "text": [
            "enter the number4\n",
            "4 44 444\n"
          ]
        }
      ]
    },
    {
      "cell_type": "markdown",
      "source": [
        "9.Python Program to Reverse a Given Number."
      ],
      "metadata": {
        "id": "q9qtBTVWWlsI"
      }
    },
    {
      "cell_type": "code",
      "source": [
        "def rev(num):\n",
        "  sum=0\n",
        "  while num > 0 :\n",
        "    sum=sum*10\n",
        "    temp=num%10\n",
        "    sum=sum + temp\n",
        "    num=num//10\n",
        "  return sum\n",
        "\n",
        "n=int(input(\"enter the number\"))\n",
        "print (rev(n))"
      ],
      "metadata": {
        "colab": {
          "base_uri": "https://localhost:8080/"
        },
        "id": "yjeWMNCAXgiB",
        "outputId": "d21eecbd-b5f6-4249-a300-ea0559582500"
      },
      "execution_count": null,
      "outputs": [
        {
          "output_type": "stream",
          "name": "stdout",
          "text": [
            "enter the number56\n",
            "65\n"
          ]
        }
      ]
    },
    {
      "cell_type": "markdown",
      "source": [
        "10.Python Program to Calculate the Average of Numbers in a Given List."
      ],
      "metadata": {
        "id": "qUt3cT83hm0Y"
      }
    },
    {
      "cell_type": "code",
      "source": [
        "def avg(num):\n",
        "  return sum(num)/len(num)\n",
        "num=[10,20,45,67,55]\n",
        "print(avg(num))"
      ],
      "metadata": {
        "colab": {
          "base_uri": "https://localhost:8080/"
        },
        "id": "Jg-QPB1phvnU",
        "outputId": "3a028820-ad5b-4560-d356-aa453801dd02"
      },
      "execution_count": null,
      "outputs": [
        {
          "output_type": "stream",
          "name": "stdout",
          "text": [
            "39.4\n"
          ]
        }
      ]
    },
    {
      "cell_type": "markdown",
      "source": [
        "11.Python Program to Count the Number of Digits in a Number"
      ],
      "metadata": {
        "id": "U_Tc6ac-n_mR"
      }
    },
    {
      "cell_type": "code",
      "source": [
        "def count_digits(n):\n",
        "    return len(str(abs(n)))\n",
        "\n",
        "num = int(input(\"Enter a number: \"))\n",
        "print(count_digits(num))"
      ],
      "metadata": {
        "colab": {
          "base_uri": "https://localhost:8080/"
        },
        "id": "b8uMiR_Poogi",
        "outputId": "526eb68a-2cf5-4917-c2ad-6d7360129ee8"
      },
      "execution_count": null,
      "outputs": [
        {
          "output_type": "stream",
          "name": "stdout",
          "text": [
            "Enter a number: 9876\n",
            "4\n"
          ]
        }
      ]
    },
    {
      "cell_type": "markdown",
      "source": [
        "12.Python Program to Check if a Number is a Palindrome"
      ],
      "metadata": {
        "id": "AC5T7e7EqRjh"
      }
    },
    {
      "cell_type": "code",
      "source": [
        "def palin(n):\n",
        "  rev=str(n)[::-1]\n",
        "  if n==rev :\n",
        "    print(\"palin\")\n",
        "  elif n!=rev :\n",
        "    print(\"not\")\n",
        "were=str(input(\"enter the string\"))\n",
        "print(palin(were))"
      ],
      "metadata": {
        "colab": {
          "base_uri": "https://localhost:8080/"
        },
        "id": "pkALdMBXqU6R",
        "outputId": "7ce8d454-b316-461d-b508-311b628f56ba"
      },
      "execution_count": null,
      "outputs": [
        {
          "output_type": "stream",
          "name": "stdout",
          "text": [
            "enter the stringnitin\n",
            "palin\n",
            "None\n"
          ]
        }
      ]
    },
    {
      "cell_type": "markdown",
      "source": [
        "13.Python Program to print the number of occurrence of a sub string in a given string."
      ],
      "metadata": {
        "id": "GpM0_8dPGM2P"
      }
    },
    {
      "cell_type": "code",
      "source": [
        "def count_substring_occurrences(main_string, substring):\n",
        "    return main_string.count(substring)\n",
        "\n",
        "if __name__ == \"__main__\":\n",
        "    main_string = input(\"Enter the main string: \")\n",
        "    substring = input(\"Enter the substring to be searched: \")\n",
        "\n",
        "    count = count_substring_occurrences(main_string, substring)\n",
        "    print(count_substring_occurrences(main_string, substring))\n",
        "\n"
      ],
      "metadata": {
        "colab": {
          "base_uri": "https://localhost:8080/"
        },
        "id": "2vKsxk0pSLot",
        "outputId": "b76d2aa7-142a-48c2-8417-e12c19b9017a"
      },
      "execution_count": null,
      "outputs": [
        {
          "output_type": "stream",
          "name": "stdout",
          "text": [
            "Enter the main string: hello\n",
            "Enter the substring to be searched: ll\n",
            "The substring 'll' appears 1 times in 'hello'.\n"
          ]
        }
      ]
    },
    {
      "cell_type": "markdown",
      "source": [
        "ALTERNATE WAY :\n",
        "def contains_substring(main_string, substring):\n",
        "    # Get lengths of the two strings\n",
        "    main_len = len(main_string)\n",
        "    sub_len = len(substring)\n",
        "\n",
        "    # Iterate over the main string\n",
        "    for i in range(main_len - sub_len + 1):\n",
        "        # If the substring starting at the current position matches the target substring\n",
        "        if main_string[i:i+sub_len] == substring:\n",
        "            return True\n",
        "    return False\n",
        "\n",
        "\n",
        "main_string = input(\"Enter the main string: \")\n",
        "substring = input(\"Enter the substring: \")\n",
        "\n",
        "if contains_substring(main_string, substring):\n",
        "    print(f\"'{substring}' is found in '{main_string}'.\")\n",
        "else:\n",
        "    print(f\"'{substring}' is not found in '{main_string}'.\")\n"
      ],
      "metadata": {
        "id": "oD7yXy9AH5_m"
      }
    },
    {
      "cell_type": "markdown",
      "source": [
        "14.Python program to print the lowest index in the string where substringsubis found within the string."
      ],
      "metadata": {
        "id": "z_N2QuKaaErP"
      }
    },
    {
      "cell_type": "code",
      "source": [
        "def occurrence(main_str,sub_str):\n",
        "  main_len=len(main_str)\n",
        "  sub_len=len(sub_str)\n",
        "\n",
        "  for i in range(main_len - sub_len + 1) :\n",
        "    if(main_str[i:i+sub_len]==sub_str):\n",
        "      return i\n",
        "  return -1\n",
        "a=str(input(\"enter string\"))\n",
        "b=str(input(\"enter sub string\"))\n",
        "index = occurrence(a,b)\n",
        "if index!=-1:\n",
        "  print(\"present\")\n",
        "else :\n",
        "  print (\"not\")\n",
        "\n"
      ],
      "metadata": {
        "colab": {
          "base_uri": "https://localhost:8080/"
        },
        "id": "TqqbXD7KkaWO",
        "outputId": "fb3c39c0-6c69-4a50-bd3d-74e2af02e483"
      },
      "execution_count": null,
      "outputs": [
        {
          "output_type": "stream",
          "name": "stdout",
          "text": [
            "enter stringhello serene\n",
            "enter sub stringse\n",
            "present\n"
          ]
        }
      ]
    },
    {
      "cell_type": "markdown",
      "source": [
        "15.Python Program to Replace all Occurrences of ‘a’ with $ in a String."
      ],
      "metadata": {
        "id": "VK5c90Apzbt4"
      }
    },
    {
      "cell_type": "code",
      "source": [
        "def contains_substring(main_string, substring):\n",
        "\n",
        "    main_len = len(main_string)\n",
        "    sub_len = len(substring)\n",
        "\n",
        "\n",
        "    for i in range(main_len - sub_len + 1):\n",
        "        if main_string[i:i+sub_len] == substring:\n",
        "              return i\n",
        "    return False\n",
        "def replacement(main_string):\n",
        "  return main_string.replace(substring,'$')\n",
        "main_string = input(\"Enter the main string: \")\n",
        "substring = input(\"Enter the substring: \")\n",
        "\n",
        "if contains_substring(main_string, substring):\n",
        "    #print(\"present\",main_string)\n",
        "    print(replacement(main_string))\n",
        "\n",
        "else:\n",
        "    print(f\"'{substring}' is not found in '{main_string}'.\")"
      ],
      "metadata": {
        "colab": {
          "base_uri": "https://localhost:8080/"
        },
        "id": "c5PKq4pRG7Hl",
        "outputId": "154ae45f-205f-4b2a-b135-78342f2e28ad"
      },
      "execution_count": null,
      "outputs": [
        {
          "output_type": "stream",
          "name": "stdout",
          "text": [
            "Enter the main string: hello world\n",
            "Enter the substring: o\n",
            "present hello world\n",
            "hell$ w$rld\n"
          ]
        }
      ]
    },
    {
      "cell_type": "markdown",
      "source": [
        "16.Python Program to return true if all characters in the string are alphabetic and there is at least one other character, False."
      ],
      "metadata": {
        "id": "dhqdn6acWmml"
      }
    },
    {
      "cell_type": "code",
      "source": [
        "def check(to_check):\n",
        " sen=to_check\n",
        " if sen in range(0, 127):\n",
        "  return to_check\n",
        " else:\n",
        "  print(\"non alphabetic character present\")\n",
        "ver=str(input(\"enter the sentence\"))\n",
        "print(check(ver))\n",
        "\n"
      ],
      "metadata": {
        "id": "5p0N3rbnXEtg",
        "colab": {
          "base_uri": "https://localhost:8080/"
        },
        "outputId": "d5bfe08b-745e-4e8d-ffd1-8c9b6c962caa"
      },
      "execution_count": null,
      "outputs": [
        {
          "output_type": "stream",
          "name": "stdout",
          "text": [
            "enter the sentencehelllo!\n",
            "non alphabetic character present\n",
            "None\n"
          ]
        }
      ]
    },
    {
      "cell_type": "markdown",
      "source": [
        "17.Python Program to Count the Number of Vowels in a String."
      ],
      "metadata": {
        "id": "cT3S7eKj28-7"
      }
    },
    {
      "cell_type": "code",
      "source": [
        "def vowels(s):\n",
        "  j=['i','o','e','u','a']\n",
        "  count=0\n",
        "  for char in s:\n",
        "    if char in j:\n",
        "      count+=1\n",
        "  return count\n",
        "\n",
        "string=input(\"enter the sentence\")\n",
        "print(vowels(string))\n"
      ],
      "metadata": {
        "colab": {
          "base_uri": "https://localhost:8080/"
        },
        "id": "kivC9B3W3BeT",
        "outputId": "ed24e003-2158-4080-93fb-7761b4318150"
      },
      "execution_count": null,
      "outputs": [
        {
          "output_type": "stream",
          "name": "stdout",
          "text": [
            "enter the sentencehelllooo\n",
            "4\n"
          ]
        }
      ]
    },
    {
      "cell_type": "markdown",
      "source": [
        "18.Python Program to Take in a String and Replace Every Blank Space with Hyphen."
      ],
      "metadata": {
        "id": "o8yw411b6KcM"
      }
    },
    {
      "cell_type": "code",
      "source": [
        "def check(ver):\n",
        "  return ver.replace(' ','-')\n",
        "sen=str(input(\"enter the sentence\"))\n",
        "print(check(sen))"
      ],
      "metadata": {
        "colab": {
          "base_uri": "https://localhost:8080/"
        },
        "id": "7L6xDqDq6VwU",
        "outputId": "9448559a-7806-4cb1-86ea-4989738ed53f"
      },
      "execution_count": null,
      "outputs": [
        {
          "output_type": "stream",
          "name": "stdout",
          "text": [
            "enter the sentencehello world\n",
            "hello-world\n"
          ]
        }
      ]
    },
    {
      "cell_type": "markdown",
      "source": [
        "19.Python Program to find the length of string without using any built-in functions."
      ],
      "metadata": {
        "id": "ESw8dqsl9FQU"
      }
    },
    {
      "cell_type": "code",
      "source": [
        "def string_len(s):\n",
        "  count=0\n",
        "  for char in s :\n",
        "    count+=1\n",
        "  return count\n",
        "\n",
        "box=str(input(\"enter the sentence: \"))\n",
        "print(string_len(box))"
      ],
      "metadata": {
        "colab": {
          "base_uri": "https://localhost:8080/"
        },
        "id": "9IFhUxkO0DY3",
        "outputId": "47207a9a-5dc6-48b4-e0b9-780471793e6d"
      },
      "execution_count": null,
      "outputs": [
        {
          "output_type": "stream",
          "name": "stdout",
          "text": [
            "enter the sentence: sentence\n",
            "8\n"
          ]
        }
      ]
    },
    {
      "cell_type": "markdown",
      "source": [
        "Python Program to Take in Two Strings and Display the Larger Stringwithout Using Built-in Functions."
      ],
      "metadata": {
        "id": "MoguYSah9yEo"
      }
    },
    {
      "cell_type": "code",
      "source": [
        "\n",
        "def counter(s,a):\n",
        "  count1=0\n",
        "  count2=0\n",
        "  for char in s:\n",
        "    count1+=1\n",
        "\n",
        "  for char in a:\n",
        "    count2+=1\n",
        "\n",
        "  if count1 > count2 :\n",
        "    print(s)\n",
        "  else:\n",
        "    print(a)\n",
        "sen1=input(\"enter the first sentence :\")\n",
        "sen2=input(\"enter the second sentence :\")\n",
        "print(counter(sen1,sen2))\n"
      ],
      "metadata": {
        "colab": {
          "base_uri": "https://localhost:8080/"
        },
        "id": "8lCB915k90of",
        "outputId": "2f0824cc-b071-4a40-df3c-1c527eb07144"
      },
      "execution_count": null,
      "outputs": [
        {
          "output_type": "stream",
          "name": "stdout",
          "text": [
            "enter the first sentence :hello world\n",
            "enter the second sentence :where are you\n",
            "where are you\n",
            "None\n"
          ]
        }
      ]
    },
    {
      "cell_type": "markdown",
      "source": [
        "21.Python Program to Calculate the Number of Upper Case Letters and Lower Case Letters in a String."
      ],
      "metadata": {
        "id": "8xUcWZoqQ85e"
      }
    },
    {
      "cell_type": "code",
      "source": [
        "def to_check(given_str):\n",
        "  count1=0\n",
        "  count2=0\n",
        "  for char in given_str:\n",
        "    if char.isupper():\n",
        "      count1+=1\n",
        "    elif char.islower():\n",
        "      count2+=1\n",
        "  return count1,count2\n",
        "input_str=input(\"enter the string\")\n",
        "print(to_check(input_str))\n"
      ],
      "metadata": {
        "colab": {
          "base_uri": "https://localhost:8080/"
        },
        "id": "GudsLR1kRAJV",
        "outputId": "a88ad605-0eb2-4890-f1ba-8831b0d53253"
      },
      "execution_count": null,
      "outputs": [
        {
          "output_type": "stream",
          "name": "stdout",
          "text": [
            "enter the stringhELLo WorlD\n",
            "(5, 5)\n"
          ]
        }
      ]
    },
    {
      "cell_type": "markdown",
      "source": [
        "22.Python Program to Calculate the Number of Digits and Letters in a String."
      ],
      "metadata": {
        "id": "B8mh91CtR_YA"
      }
    },
    {
      "cell_type": "code",
      "source": [
        "def to_check(given_str):\n",
        "  count1=0\n",
        "  count2=0\n",
        "  for char in given_str:\n",
        "    if char.isdigit():\n",
        "      count1+=1\n",
        "    elif char.isalpha():\n",
        "      count2+=1\n",
        "  return count1,count2\n",
        "input_str=input(\"enter the string\")\n",
        "print(to_check(input_str))"
      ],
      "metadata": {
        "colab": {
          "base_uri": "https://localhost:8080/"
        },
        "id": "_gbX_DpLSEdV",
        "outputId": "04c1f0a4-6144-4afb-e816-7473a1db7576"
      },
      "execution_count": null,
      "outputs": [
        {
          "output_type": "stream",
          "name": "stdout",
          "text": [
            "enter the stringHello123heeee\n",
            "(3, 10)\n"
          ]
        }
      ]
    },
    {
      "cell_type": "markdown",
      "source": [
        "23.Python Program to check whether a full pattern (not sub string) is present in the given sentence."
      ],
      "metadata": {
        "id": "iCwGIkpvj5zZ"
      }
    },
    {
      "cell_type": "code",
      "source": [
        "\n"
      ],
      "metadata": {
        "colab": {
          "base_uri": "https://localhost:8080/"
        },
        "id": "SpfhhDF0j-C4",
        "outputId": "d5022ec6-b533-4531-ca86-176b6f730ba4"
      },
      "execution_count": null,
      "outputs": [
        {
          "output_type": "stream",
          "name": "stdout",
          "text": [
            "The pattern is not present in the sentence.\n"
          ]
        }
      ]
    },
    {
      "cell_type": "markdown",
      "source": [
        "24.Cumulative sum of a list [1, 2, 4, ...] is defined as[1, 3, 7, . . .]Write a functioncumulative_sum() to compute cumulative sum of a list"
      ],
      "metadata": {
        "id": "rjgRM9e5laUx"
      }
    },
    {
      "cell_type": "code",
      "source": [
        "def cumulative_sum(lst):\n",
        "    cum_sum = []\n",
        "    total = 0\n",
        "    for num in lst:\n",
        "        total += num\n",
        "        cum_sum.append(total)\n",
        "    return cum_sum\n",
        "\n",
        "\n",
        "lst = [1, 2, 4, 8, 16]\n",
        "print(cumulative_sum(lst))\n"
      ],
      "metadata": {
        "colab": {
          "base_uri": "https://localhost:8080/"
        },
        "id": "fx5k5Eg6ldQU",
        "outputId": "b08a8f44-2652-41c5-fe2a-d32a10575563"
      },
      "execution_count": null,
      "outputs": [
        {
          "output_type": "stream",
          "name": "stdout",
          "text": [
            "[1, 3, 7, 15, 31]\n"
          ]
        }
      ]
    },
    {
      "cell_type": "markdown",
      "source": [
        "25.Write a program to generate 10 random integers."
      ],
      "metadata": {
        "id": "wsn-41OlnN16"
      }
    },
    {
      "cell_type": "code",
      "source": [
        "import random\n",
        "\n",
        "def generate_random_integers(n, lower_limit=1, upper_limit=100):\n",
        "    return [random.randint(lower_limit, upper_limit) for _ in range(n)]\n",
        "\n",
        "# Generate 10 random integers\n",
        "random_integers = generate_random_integers(10)\n",
        "print(random_integers)\n",
        "\n"
      ],
      "metadata": {
        "colab": {
          "base_uri": "https://localhost:8080/"
        },
        "id": "Fc3JM-eAnTmg",
        "outputId": "f46fd9bd-332c-46bf-e0bf-f2744a5f9ea7"
      },
      "execution_count": null,
      "outputs": [
        {
          "output_type": "stream",
          "name": "stdout",
          "text": [
            "[92, 7, 15, 53, 77, 48, 63, 58, 8, 77]\n"
          ]
        }
      ]
    },
    {
      "cell_type": "markdown",
      "source": [
        "26.Write a program to generate 10 random integers between 1 to 20 (both inclusive)"
      ],
      "metadata": {
        "id": "1-wEwDV0pe8o"
      }
    },
    {
      "cell_type": "code",
      "source": [
        "import random\n",
        "\n",
        "def generate_random_integers(n, lower_limit=1, upper_limit=20):\n",
        "    return [random.randint(lower_limit, upper_limit) for _ in range(n)]\n",
        "\n",
        "# Generate 10 random integers\n",
        "random_integers = generate_random_integers(10)\n",
        "print(random_integers)"
      ],
      "metadata": {
        "colab": {
          "base_uri": "https://localhost:8080/"
        },
        "id": "HWYR3O_Hpmq4",
        "outputId": "d73af773-7a78-4137-fe4b-80972c575f55"
      },
      "execution_count": null,
      "outputs": [
        {
          "output_type": "stream",
          "name": "stdout",
          "text": [
            "[1, 18, 2, 14, 13, 20, 7, 19, 13, 14]\n"
          ]
        }
      ]
    },
    {
      "cell_type": "markdown",
      "source": [
        "27.Write a program to generate 5 random integers between 1 to 20 such that numbers should be unique."
      ],
      "metadata": {
        "id": "_eNqCqLAp6GZ"
      }
    },
    {
      "cell_type": "code",
      "source": [
        "import random\n",
        "\n",
        "def generate_unique_random_integers(n=5, lower_limit=1, upper_limit=20):\n",
        "    return random.sample(range(lower_limit, upper_limit+1), n)\n",
        "\n",
        "# Generate 5 unique random integers between 1 and 20\n",
        "random_integers = generate_unique_random_integers()\n",
        "print(random_integers)\n"
      ],
      "metadata": {
        "colab": {
          "base_uri": "https://localhost:8080/"
        },
        "id": "gqp8gyMYqMBB",
        "outputId": "7c7183c4-375e-44d0-cb86-227d5891be6c"
      },
      "execution_count": null,
      "outputs": [
        {
          "output_type": "stream",
          "name": "stdout",
          "text": [
            "[19, 14, 1, 18, 3]\n"
          ]
        }
      ]
    },
    {
      "cell_type": "markdown",
      "source": [
        "28Write a program to generate 10 random numbers between 1 to 100 such that there should one number between 1 to 10 one number between 11 to 20 etc."
      ],
      "metadata": {
        "id": "_KqN79WLrXHA"
      }
    },
    {
      "cell_type": "code",
      "source": [
        "import random\n",
        "\n",
        "def generate_random_numbers_in_ranges(ranges):\n",
        "    return [random.randint(r[0], r[1]) for r in ranges]\n",
        "\n",
        "# Define the ranges\n",
        "ranges = [(i, i+9) for i in range(1, 100, 10)]\n",
        "\n",
        "# Generate 10 random numbers, one in each range\n",
        "random_numbers = generate_random_numbers_in_ranges(ranges)\n",
        "print(random_numbers)\n"
      ],
      "metadata": {
        "id": "adaO5EO5rffN"
      },
      "execution_count": null,
      "outputs": []
    }
  ]
}